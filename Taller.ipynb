{
 "cells": [
  {
   "cell_type": "code",
   "execution_count": 1,
   "metadata": {},
   "outputs": [
    {
     "name": "stdout",
     "output_type": "stream",
     "text": [
      "5\n"
     ]
    }
   ],
   "source": [
    "def sumar(a, b):\n",
    "    return a + b\n",
    "    \n",
    "print(sumar(2, 3))"
   ]
  },
  {
   "cell_type": "code",
   "execution_count": 2,
   "metadata": {},
   "outputs": [
    {
     "name": "stdout",
     "output_type": "stream",
     "text": [
      "9\n",
      "-1\n",
      "20\n",
      "0.8\n",
      "2.0\n"
     ]
    }
   ],
   "source": [
    "from matematicas import sumar, restar, multiplicar, dividir\n",
    "from algebra import distancia\n",
    "\n",
    "print(sumar(4, 5))\n",
    "print(restar(4, 5))\n",
    "print(multiplicar(4, 5))\n",
    "print(dividir(4, 5))\n",
    "\n",
    "print(distancia(1, 2, 3, 4))"
   ]
  }
 ],
 "metadata": {
  "kernelspec": {
   "display_name": "Python 3",
   "language": "python",
   "name": "python3"
  },
  "language_info": {
   "codemirror_mode": {
    "name": "ipython",
    "version": 3
   },
   "file_extension": ".py",
   "mimetype": "text/x-python",
   "name": "python",
   "nbconvert_exporter": "python",
   "pygments_lexer": "ipython3",
   "version": "3.10.8"
  },
  "orig_nbformat": 4
 },
 "nbformat": 4,
 "nbformat_minor": 2
}
